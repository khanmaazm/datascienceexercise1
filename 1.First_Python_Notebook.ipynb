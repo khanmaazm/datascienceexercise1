{
 "cells": [
  {
   "cell_type": "code",
   "execution_count": 1,
   "metadata": {},
   "outputs": [
    {
     "name": "stdout",
     "output_type": "stream",
     "text": [
      "9\n"
     ]
    }
   ],
   "source": [
    "a=4\n",
    "b=5\n",
    "c=a+b\n",
    "print(c)"
   ]
  },
  {
   "cell_type": "code",
   "execution_count": 2,
   "metadata": {},
   "outputs": [
    {
     "name": "stdout",
     "output_type": "stream",
     "text": [
      "a not equals b\n",
      "9\n",
      "a equals b\n",
      "one more line to execute inside if\n",
      "last print i m inside else\n",
      "Maaz Khan\n",
      "a is True\n"
     ]
    }
   ],
   "source": [
    "#####1) NO COMPILER CONCEPT. ONLY RUNTIME. COMPILER ERRORS\n",
    "#####2) CMD LINES CAN BE SEPARATELY RUN. NOT DEPENDENT ON OTHERS\n",
    "#####3) NO VARIABLE (VARIABLE DATATYPE, VARIABLE SIZE) DECLARATION\n",
    "#####4) INDENTING IS COMPULSORY AND ALSO SHOWS HIERARCHY OR OPENING/CLOSING OF BRACES\n",
    "#####5) VARIABLES CAN BE USED TO STORE DIFFERENT DATA TYPES IRRESPECTIVE  \n",
    "a=4\n",
    "b=5\n",
    "c=a+b\n",
    "if a == b:\n",
    "  print ('a equals b')\n",
    "  print ('but i m inside')\n",
    "  print('i m outside if')\n",
    "else:\n",
    "  print('a not equals b')\n",
    "print(c) \n",
    "\n",
    "if a != b:\n",
    "  print ('a equals b')\n",
    "  print ('one more line to execute inside if')\n",
    "else:\n",
    "  print ('a not equals b')\n",
    "print ('last print i m inside else')\n",
    "a = \"Maaz Khan\"\n",
    "print(a)\n",
    "a = True\n",
    "if a == False: \n",
    "  print ('a is FAsle')\n",
    "else:\n",
    "  print ('a is True')"
   ]
  },
  {
   "cell_type": "code",
   "execution_count": 3,
   "metadata": {},
   "outputs": [
    {
     "name": "stdout",
     "output_type": "stream",
     "text": [
      "1012\n",
      "1035\n",
      "1012\n",
      "Maaz Khan\n"
     ]
    }
   ],
   "source": [
    "z=44\n",
    "y=23\n",
    "m=y*z\n",
    "print(m)\n",
    "\n",
    "e=14\n",
    "d=c+e+m\n",
    "print(d)\n",
    "print(m)\n",
    "\n",
    "a=\"Maaz Khan\"\n",
    "print(a)"
   ]
  },
  {
   "cell_type": "code",
   "execution_count": 4,
   "metadata": {},
   "outputs": [
    {
     "name": "stdout",
     "output_type": "stream",
     "text": [
      "Maaz Khan\n",
      "K\n",
      "<class 'int'>\n",
      "<class 'str'>\n"
     ]
    }
   ],
   "source": [
    "a=4\n",
    "name=\"Maaz Khan\" #array of characters is a string. Arrays are called as Lists in python. They start with index(position of element) 0\n",
    "print(name)\n",
    "print(name[5])\n",
    "print(type(a))\n",
    "print(type(name))"
   ]
  },
  {
   "cell_type": "code",
   "execution_count": 5,
   "metadata": {},
   "outputs": [
    {
     "name": "stdout",
     "output_type": "stream",
     "text": [
      "18\n",
      "<class 'list'>\n"
     ]
    }
   ],
   "source": [
    "m=[1,2,4,6,8,10] #List in python\n",
    "print(m[4] + m[5])\n",
    "print(type(m))"
   ]
  },
  {
   "cell_type": "code",
   "execution_count": 6,
   "metadata": {},
   "outputs": [
    {
     "name": "stdout",
     "output_type": "stream",
     "text": [
      "2\n",
      "Maaz\n",
      "73.67\n",
      "True\n",
      "<class 'float'>\n",
      "<class 'list'>\n",
      "<class 'bool'>\n",
      "<class 'bool'>\n",
      "z is NOT equal to value in list with index 5\n"
     ]
    }
   ],
   "source": [
    "n=[1,2,\"Maaz\",\"AnotherString\", 73.67, True]\n",
    "#INdex starts with 0\n",
    "print(n[1]) #1 is index, \n",
    "print(n[2]) #2 in index, value is \"Maaz\"\n",
    "print(n[4])\n",
    "print(n[5])\n",
    "print(type(n[4]))\n",
    "print(type(n))\n",
    "z=False\n",
    "print(type(z))\n",
    "print(type(n[5]))\n",
    "if z == n[5] :\n",
    "  print('z is equal to value in list with index 5')\n",
    "elif type (z)== type (n[5]) :\n",
    "  print('z is NOT equal to value in list with index 5')\n",
    "  "
   ]
  },
  {
   "cell_type": "code",
   "execution_count": 7,
   "metadata": {},
   "outputs": [
    {
     "name": "stdout",
     "output_type": "stream",
     "text": [
      "dict_items([('a', 4), ('b', 5), ('sumofaandb', 9), ('textindictkey', 'Maaz Khan')])\n",
      "dict_keys(['a', 'b', 'sumofaandb', 'textindictkey'])\n",
      "dict_values([4, 5, 9, 'Maaz Khan'])\n"
     ]
    }
   ],
   "source": [
    "#DICTIONARY  / KEY VALUE PAIR\n",
    "imdictvarjsonformat = {\"a\":4, \"b\":5, \"sumofaandb\":9, \"textindictkey\": \"Maaz Khan\"}\n",
    "type(imdictvarjsonformat)\n",
    "print(imdictvarjsonformat.items()) #both keys and values\n",
    "print(imdictvarjsonformat.keys()) #keys\n",
    "print(imdictvarjsonformat.values()) #values"
   ]
  },
  {
   "cell_type": "code",
   "execution_count": 8,
   "metadata": {},
   "outputs": [
    {
     "name": "stdout",
     "output_type": "stream",
     "text": [
      "9\n",
      "5\n"
     ]
    }
   ],
   "source": [
    "print(imdictvarjsonformat[\"sumofaandb\"])\n",
    "print(imdictvarjsonformat[\"b\"])"
   ]
  }
 ],
 "metadata": {
  "kernelspec": {
   "display_name": "Python 3",
   "language": "python",
   "name": "python3"
  },
  "language_info": {
   "codemirror_mode": {
    "name": "ipython",
    "version": 3
   },
   "file_extension": ".py",
   "mimetype": "text/x-python",
   "name": "python",
   "nbconvert_exporter": "python",
   "pygments_lexer": "ipython3",
   "version": "3.7.6"
  },
  "name": "FirstNotebook1",
  "notebookId": 2735001126567642
 },
 "nbformat": 4,
 "nbformat_minor": 1
}
